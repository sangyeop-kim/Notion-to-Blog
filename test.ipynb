{
 "cells": [
  {
   "cell_type": "code",
   "execution_count": 26,
   "metadata": {},
   "outputs": [],
   "source": [
    "from selenium import webdriver\n",
    "import chromedriver_autoinstaller\n",
    "from selenium.webdriver.support import expected_conditions as EC\n",
    "from selenium.webdriver.support.ui import WebDriverWait\n",
    "import getpass"
   ]
  },
  {
   "cell_type": "markdown",
   "metadata": {},
   "source": [
    "## Setup"
   ]
  },
  {
   "cell_type": "code",
   "execution_count": null,
   "metadata": {},
   "outputs": [],
   "source": []
  },
  {
   "cell_type": "markdown",
   "metadata": {},
   "source": [
    "## download page"
   ]
  },
  {
   "cell_type": "code",
   "execution_count": 106,
   "metadata": {},
   "outputs": [
    {
     "data": {
      "text/plain": [
       "'/home/rtm/anaconda3/envs/notion/lib/python3.7/site-packages/chromedriver_autoinstaller/91/chromedriver'"
      ]
     },
     "execution_count": 106,
     "metadata": {},
     "output_type": "execute_result"
    }
   ],
   "source": [
    "chromedriver_autoinstaller.install()"
   ]
  },
  {
   "cell_type": "code",
   "execution_count": 157,
   "metadata": {},
   "outputs": [],
   "source": [
    "chrome_options = webdriver.ChromeOptions()\n",
    "prefs = {'download.default_directory' : os.path.abspath('.')}\n",
    "chrome_options.add_experimental_option('prefs', prefs)"
   ]
  },
  {
   "cell_type": "code",
   "execution_count": 158,
   "metadata": {},
   "outputs": [
    {
     "name": "stderr",
     "output_type": "stream",
     "text": [
      "/home/rtm/anaconda3/envs/notion/lib/python3.7/site-packages/ipykernel_launcher.py:1: DeprecationWarning: use options instead of chrome_options\n",
      "  \"\"\"Entry point for launching an IPython kernel.\n"
     ]
    }
   ],
   "source": [
    "driver = webdriver.Chrome(chrome_options=chrome_options)\n",
    "link = 'https://www.notion.so/Attention-based-dropout-layer-for-weakly-supervised-object-localization-5c81b998036f427a818d9527f460a546'\n",
    "driver.get(link)"
   ]
  },
  {
   "cell_type": "code",
   "execution_count": 159,
   "metadata": {},
   "outputs": [],
   "source": [
    "option = driver.find_element_by_css_selector('''#notion-app > div > div.notion-cursor-listener \n",
    "                                                > div > div:nth-child(1) > div.notion-topbar \n",
    "                                                > div > div:nth-child(4) > svg''')\n",
    "option.click()\n",
    "driver.find_element_by_css_selector('''#notion-app > div \n",
    "                                        > div.notion-overlay-container.notion-default-overlay-container \n",
    "                                        > div:nth-child(2) > div > div:nth-child(2) > div:nth-child(2) \n",
    "                                        > div > div > div > div > div > div > div:nth-child(2) > div \n",
    "                                        > div > div:nth-child(2) > div''').click()"
   ]
  },
  {
   "cell_type": "code",
   "execution_count": 160,
   "metadata": {},
   "outputs": [
    {
     "name": "stdout",
     "output_type": "stream",
     "text": [
      "id: pdg01117@snu.ac.kr\n",
      "password: ········\n"
     ]
    }
   ],
   "source": [
    "id_ = input('id: ')\n",
    "pswd = getpass.getpass('password: ') "
   ]
  },
  {
   "cell_type": "code",
   "execution_count": 161,
   "metadata": {},
   "outputs": [],
   "source": [
    "id_blank = driver.find_element_by_id('notion-email-input-1')\n",
    "id_blank.clear()\n",
    "id_blank.send_keys(id_)\n",
    "button = driver.find_element_by_css_selector('''#notion-app > div > div:nth-child(1) > main \n",
    "                                                > section > div > div > div > div.notion-login \n",
    "                                                > div:nth-child(3) > form \n",
    "                                                > div.notion-focusable''')\n",
    "button.click()"
   ]
  },
  {
   "cell_type": "code",
   "execution_count": 162,
   "metadata": {},
   "outputs": [],
   "source": [
    "pswd_blank = driver.find_element_by_css_selector('''#notion-password-input-2''')\n",
    "pswd_blank.clear()\n",
    "pswd_blank.send_keys(pswd)\n",
    "button = driver.find_element_by_css_selector('''#notion-app > div > div:nth-child(1) > main \n",
    "                                                > section > div > div > div > div.notion-login \n",
    "                                                > div:nth-child(3) > form \n",
    "                                                > div.notion-focusable''')\n",
    "button.click()"
   ]
  },
  {
   "cell_type": "code",
   "execution_count": 163,
   "metadata": {},
   "outputs": [],
   "source": [
    "option = driver.find_element_by_css_selector('''#notion-app > div > div.notion-cursor-listener \n",
    "                                                > div.notion-frame > div:nth-child(1) \n",
    "                                                > div.notion-topbar > div:nth-child(1) \n",
    "                                                > div:nth-child(3) \n",
    "                                                > div.notion-topbar-more-button.notion-focusable''')"
   ]
  },
  {
   "cell_type": "code",
   "execution_count": 164,
   "metadata": {},
   "outputs": [],
   "source": [
    "option.click()"
   ]
  },
  {
   "cell_type": "code",
   "execution_count": 165,
   "metadata": {},
   "outputs": [],
   "source": [
    "driver.find_element_by_css_selector('''#notion-app > div \n",
    "                                        > div.notion-overlay-container.notion-default-overlay-container \n",
    "                                        > div:nth-child(2) > div > div:nth-child(2) \n",
    "                                        > div:nth-child(2) > div > div > div > div > div \n",
    "                                        > div:nth-child(1) > div:nth-child(6) > div:nth-child(2) \n",
    "                                        > div > div:nth-child(2)''').click()"
   ]
  },
  {
   "cell_type": "code",
   "execution_count": 166,
   "metadata": {},
   "outputs": [],
   "source": [
    "format_ = driver.find_element_by_css_selector('''#notion-app > div \n",
    "                                                > div.notion-overlay-container.notion-default-overlay-container \n",
    "                                                > div:nth-child(2) > div > div:nth-child(2) \n",
    "                                                > div > div:nth-child(1) > div.notion-focusable''')\n",
    "format_.click()"
   ]
  },
  {
   "cell_type": "code",
   "execution_count": 167,
   "metadata": {},
   "outputs": [],
   "source": [
    "driver.find_element_by_css_selector('''#notion-app > div \n",
    "                                        > div.notion-overlay-container.notion-default-overlay-container \n",
    "                                        > div:nth-child(3) > div > div:nth-child(2) \n",
    "                                        > div:nth-child(2) > div > div > div > div > div > div \n",
    "                                        > div > div:nth-child(2) > div > div > div''').click()"
   ]
  },
  {
   "cell_type": "code",
   "execution_count": 168,
   "metadata": {},
   "outputs": [],
   "source": [
    "driver.find_element_by_css_selector('''#notion-app > div \n",
    "                                        > div.notion-overlay-container.notion-default-overlay-container \n",
    "                                        > div:nth-child(2) > div > div:nth-child(2) > div \n",
    "                                        > div:nth-child(4) > div:nth-child(2)''').click()"
   ]
  },
  {
   "cell_type": "markdown",
   "metadata": {},
   "source": [
    "## unzip"
   ]
  },
  {
   "cell_type": "code",
   "execution_count": 175,
   "metadata": {},
   "outputs": [],
   "source": [
    "from glob import glob\n",
    "import os\n",
    "import zipfile\n"
   ]
  },
  {
   "cell_type": "code",
   "execution_count": 173,
   "metadata": {},
   "outputs": [],
   "source": [
    "zip_files = glob('*.zip')\n",
    "latest_file = max(zip_files, key=os.path.getctime)"
   ]
  },
  {
   "cell_type": "code",
   "execution_count": 174,
   "metadata": {},
   "outputs": [],
   "source": [
    "fantasy_zip = zipfile.ZipFile(latest_file)\n",
    "\n",
    "os.makedirs('contents', exist_ok=True)\n",
    "fantasy_zip.extractall('./contents')\n",
    " \n",
    "fantasy_zip.close()\n",
    "os.remove(latest_file)"
   ]
  },
  {
   "cell_type": "code",
   "execution_count": null,
   "metadata": {},
   "outputs": [],
   "source": []
  },
  {
   "cell_type": "code",
   "execution_count": null,
   "metadata": {},
   "outputs": [],
   "source": []
  },
  {
   "cell_type": "code",
   "execution_count": null,
   "metadata": {},
   "outputs": [],
   "source": []
  },
  {
   "cell_type": "markdown",
   "metadata": {},
   "source": [
    "## "
   ]
  }
 ],
 "metadata": {
  "kernelspec": {
   "display_name": "notion",
   "language": "python",
   "name": "notion"
  },
  "language_info": {
   "codemirror_mode": {
    "name": "ipython",
    "version": 3
   },
   "file_extension": ".py",
   "mimetype": "text/x-python",
   "name": "python",
   "nbconvert_exporter": "python",
   "pygments_lexer": "ipython3",
   "version": "3.7.10"
  }
 },
 "nbformat": 4,
 "nbformat_minor": 4
}
